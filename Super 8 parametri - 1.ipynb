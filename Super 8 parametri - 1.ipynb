{
 "cells": [
  {
   "cell_type": "code",
   "execution_count": 1,
   "id": "cdba96bf",
   "metadata": {},
   "outputs": [
    {
     "data": {
      "text/plain": [
       "0"
      ]
     },
     "execution_count": 1,
     "metadata": {},
     "output_type": "execute_result"
    }
   ],
   "source": [
    "# pip (în kernelul curent)\n",
    "import sys, subprocess\n",
    "subprocess.check_call([sys.executable, \"-m\", \"pip\", \"install\", \"-q\", \"openpyxl\"])\n"
   ]
  },
  {
   "cell_type": "code",
   "execution_count": 1,
   "id": "47b30580",
   "metadata": {},
   "outputs": [
    {
     "name": "stdout",
     "output_type": "stream",
     "text": [
      "Cost per parte: 0.0550% (round-trip ~ 0.1100%)\n",
      "[BT] df rows=19239 | cols=['high', 'low', 'Price', 'volume', 'Return', 'Spread']\n",
      "[BT] time: 2021-06-01 02:00:00+00:00 → 2025-10-21 12:00:00+00:00 | dup_time=0\n",
      "[IND] rows=19239 | cols=['sEMA', 'fEMA', 'EMA_longCond', 'EMA_shortCond', 'adx', 'di_plus', 'di_minus', 'ADX_longCond']... | has_BB=True | has_hist=True | has_histmacz=True\n",
      "[BT] type(ind)=<class 'pandas.core.frame.DataFrame'> | isNone=False\n",
      "[BT] ind rows=19239\n",
      "[BT] base rows=19239 | same_index=True\n",
      "len(df)= 19239  | len(ind)= 19239  | len(base)= 19239\n",
      "[BT] rates → EMA_short=0.517, ADX_short=0.534, SAR_short=0.500, MACD_short=0.490, VOL_short=0.436, BB_short01=0.000, entry=0.069\n",
      "[BT] first TRUE EMA_short: 2021-06-01 16:00:00+00:00\n",
      "[BT] first TRUE ADX_short: 2021-06-01 08:00:00+00:00\n",
      "[BT] first TRUE SAR_short: 2021-06-01 04:00:00+00:00\n",
      "[BT] first TRUE MACD_short: 2021-06-01 08:00:00+00:00\n",
      "[BT] first TRUE VOL_short: 2021-06-01 02:00:00+00:00\n",
      "[BT] first TRUE entry: 2021-06-07 14:00:00+00:00\n"
     ]
    },
    {
     "name": "stderr",
     "output_type": "stream",
     "text": [
      "C:\\Users\\Stefan\\Desktop\\Curs Trading\\Strategii\\super8_short_backtest.py:162: FutureWarning: Downcasting object dtype arrays on .fillna, .ffill, .bfill is deprecated and will change in a future version. Call result.infer_objects(copy=False) instead. To opt-in to the future behavior, set `pd.set_option('future.no_silent_downcasting', True)`\n",
      "  entry_sig = entry_cond.shift(1).fillna(False).astype(bool)  # intrăm next-bar\n"
     ]
    },
    {
     "name": "stdout",
     "output_type": "stream",
     "text": [
      "[BT] summary → rows=19239, trades=702, pos_rate=0.098, perf=253.4747, bh=1.1126\n",
      "Perf: 253.47473963272455  | Buy&Hold: 1.1125976792392156  | Trades: 702\n"
     ]
    }
   ],
   "source": [
    "import importlib, super8_indicators, super8_short_backtest\n",
    "importlib.reload(super8_indicators)\n",
    "importlib.reload(super8_short_backtest)\n",
    "import pandas as pd\n",
    "from super8_short_backtest import Super8ShortBacktester, ShortParams\n",
    "import numpy as np\n",
    "\n",
    "\n",
    "# 1) Încarcă datele tale (2h, cu price/high/low/volume; Return/Spread sunt calculate automat dacă lipsesc)\n",
    "df = pd.read_csv(\"Simboluri_Binance/AVAXUSDC.csv\")\n",
    "# === Cost per tranzacție (per parte) ===\n",
    "# Alege unul din profilele de mai jos:\n",
    "\n",
    "# 1) Binance USDⓈ-M Futures (taker) + slippage mic\n",
    "fee_pct = 0.00050    # 0.05% comision per parte\n",
    "slip_pct = 0.00005   # 0.005% slippage per parte (conservator)\n",
    "# 2) Binance Spot (taker) + BNB (-25%) + slippage mic\n",
    "# fee_pct = 0.00075  # 0.075% comision per parte\n",
    "# slip_pct = 0.00005 # 0.005% slippage per parte\n",
    "\n",
    "per_side_cost_pct = fee_pct + slip_pct                     # în procente (fracție)\n",
    "per_side_cost_log = -np.log(1.0 - per_side_cost_pct)       # transformare la log-return (valoare > 0)\n",
    "df[\"Spread\"] = per_side_cost_log                           # cost “per schimbare de poziție”\n",
    "\n",
    "print(f\"Cost per parte: {per_side_cost_pct*100:.4f}% \"\n",
    "      f\"(round-trip ~ {2*per_side_cost_pct*100:.4f}%)\")\n",
    "\n",
    "\n",
    "# 2) Parametrii indicatori (1-la-1 cu Pine unde are sens)\n",
    "indicator_params = dict(\n",
    "    sEma_Length=426, fEma_Length=58,\n",
    "    ADX_len=10, ADX_smo=8, th=11.53,\n",
    "    Sst=0.10, Sinc=0.04, Smax=0.40,\n",
    "    MACD_options=\"MACD\",   # pune \"MAC-Z\" ca să folosești varianta MAC-Z\n",
    "    fastLength=22, slowLength=39, signalLength=13,\n",
    "    lengthz=14, lengthStdev=16, A=-0.1, B=0.5,        # folosite doar dacă MACD_options=\"MAC-Z\"\n",
    "    volume_f=0.87, sma_Length=81,\n",
    "    BB_Length=156, BB_mult=13.18,\n",
    "    bbMinWidth01=9.3, bbMinWidth02=0.0,\n",
    "    DClength=76\n",
    ")\n",
    "\n",
    "# 3) Parametrii strategiei short (TP/SL ca în Pine, simplificat)\n",
    "short_params = ShortParams(\n",
    "    Position=\"Both\",            # sau \"Short\" dacă vrei să interzici complet long-urile\n",
    "    TP_options=\"Both\",          # \"Normal\" | \"Donchian\" | \"Both\"\n",
    "    SL_options=\"Both\",          # \"Normal\" | \"ATR\" | \"Both\"\n",
    "    tp=3.6, sl=8.0,\n",
    "    atrPeriodSl=100, multiplierPeriodSl=95.77,\n",
    "    trailOffset=0.38,            # trailing ignorat în implementarea simplă\n",
    "    start_time=None             # sau pd.Timestamp(\"2022-01-01\", tz=\"UTC\")\n",
    ")\n",
    "\n",
    "engine = Super8ShortBacktester(indicator_params, short_params, use_spread=True, log_return=True)\n",
    "bt = engine.run(df)\n",
    "cols = [\"high\",\"low\",\"Price\",\"volume\",\"Return\",\"Spread\",\"position\",\"trades\",\"cstrategy\",\"creturn\"]\n",
    "bt_x = bt.copy()\n",
    "if isinstance(bt_x.index, pd.DatetimeIndex) and bt_x.index.tz is not None:\n",
    "    # păstrează valorile în UTC, doar scoate informația de timezone\n",
    "    bt_x.index = bt_x.index.tz_localize(None)\n",
    "\n",
    "bt_x[cols].to_excel(\"s8_short_backtest_view.xlsx\", index=True)\n",
    "bt.to_csv(\"s8_short_backtest_ETHUSDT.csv\", index=True)\n",
    "print(\"Perf:\", bt[\"cstrategy\"].iloc[-1], \" | Buy&Hold:\", bt[\"creturn\"].iloc[-1],\n",
    "      \" | Trades:\", int(bt[\"trades\"].sum()))\n"
   ]
  },
  {
   "cell_type": "code",
   "execution_count": null,
   "id": "ebac9756",
   "metadata": {},
   "outputs": [],
   "source": []
  }
 ],
 "metadata": {
  "kernelspec": {
   "display_name": "Python 3 (ipykernel)",
   "language": "python",
   "name": "python3"
  },
  "language_info": {
   "codemirror_mode": {
    "name": "ipython",
    "version": 3
   },
   "file_extension": ".py",
   "mimetype": "text/x-python",
   "name": "python",
   "nbconvert_exporter": "python",
   "pygments_lexer": "ipython3",
   "version": "3.10.13"
  }
 },
 "nbformat": 4,
 "nbformat_minor": 5
}
